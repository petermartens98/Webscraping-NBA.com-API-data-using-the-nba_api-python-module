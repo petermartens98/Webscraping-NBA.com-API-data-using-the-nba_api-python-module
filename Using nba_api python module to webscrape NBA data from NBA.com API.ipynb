{
 "cells": [
  {
   "cell_type": "markdown",
   "id": "6f397a64",
   "metadata": {},
   "source": [
    "## Using nba_api python module to webscrape NBA data from NBA.com API"
   ]
  },
  {
   "cell_type": "markdown",
   "id": "4ce7f4b0",
   "metadata": {},
   "source": [
    "### NBA API Source Code - Very Useful"
   ]
  },
  {
   "cell_type": "markdown",
   "id": "419e0371",
   "metadata": {},
   "source": [
    "nba_api source code = https://github.com/swar/nba_api"
   ]
  },
  {
   "cell_type": "markdown",
   "id": "2a5e8ac4",
   "metadata": {},
   "source": [
    "### Import neccesary modules"
   ]
  },
  {
   "cell_type": "code",
   "execution_count": 44,
   "id": "a957656a",
   "metadata": {},
   "outputs": [],
   "source": [
    "import pandas as pd\n",
    "\n",
    "import nba_api\n",
    "from nba_api.stats.static import players\n",
    "from nba_api.stats.static import teams\n",
    "from nba_api.stats.endpoints import playergamelog\n",
    "from nba_api.stats.library.parameters import SeasonAll\n",
    "from nba_api.stats.endpoints import leaguegamefinder"
   ]
  },
  {
   "cell_type": "markdown",
   "id": "6da3853a",
   "metadata": {},
   "source": [
    "### Create a player dictionary with all NBA players from nba_api"
   ]
  },
  {
   "cell_type": "code",
   "execution_count": 45,
   "id": "019b7762",
   "metadata": {},
   "outputs": [],
   "source": [
    "player_dict = players.get_players()"
   ]
  },
  {
   "cell_type": "markdown",
   "id": "9225cb07",
   "metadata": {},
   "source": [
    "### Define and call a Darius Garland variable from player_dict"
   ]
  },
  {
   "cell_type": "code",
   "execution_count": 46,
   "id": "5ab370e7",
   "metadata": {},
   "outputs": [
    {
     "data": {
      "text/plain": [
       "{'id': 1629636,\n",
       " 'full_name': 'Darius Garland',\n",
       " 'first_name': 'Darius',\n",
       " 'last_name': 'Garland',\n",
       " 'is_active': True}"
      ]
     },
     "execution_count": 46,
     "metadata": {},
     "output_type": "execute_result"
    }
   ],
   "source": [
    "Garland = [player for player in player_dict if player['full_name'] == 'Darius Garland'][0]\n",
    "Garland"
   ]
  },
  {
   "cell_type": "markdown",
   "id": "3a1ddcb6",
   "metadata": {},
   "source": [
    "### Create a teams dictionary with all NBA teams from nba_api"
   ]
  },
  {
   "cell_type": "code",
   "execution_count": 47,
   "id": "54720b8d",
   "metadata": {},
   "outputs": [],
   "source": [
    "team_dict = teams.get_teams()"
   ]
  },
  {
   "cell_type": "markdown",
   "id": "0807e914",
   "metadata": {},
   "source": [
    "### Define and call a Cleveland Cavaliers variable from team_dict"
   ]
  },
  {
   "cell_type": "code",
   "execution_count": 48,
   "id": "589c1c06",
   "metadata": {},
   "outputs": [
    {
     "data": {
      "text/plain": [
       "[{'id': 1610612739,\n",
       "  'full_name': 'Cleveland Cavaliers',\n",
       "  'abbreviation': 'CLE',\n",
       "  'nickname': 'Cavaliers',\n",
       "  'city': 'Cleveland',\n",
       "  'state': 'Ohio',\n",
       "  'year_founded': 1970}]"
      ]
     },
     "execution_count": 48,
     "metadata": {},
     "output_type": "execute_result"
    }
   ],
   "source": [
    "Cavs = [team for team in team_dict if team['full_name'] == 'Cleveland Cavaliers']\n",
    "Cavs"
   ]
  },
  {
   "cell_type": "markdown",
   "id": "6c07b560",
   "metadata": {},
   "source": [
    "### Retrieve 2021-2022 game log data for Darius Garland from nba_api and then convert to pandas dataframe"
   ]
  },
  {
   "cell_type": "code",
   "execution_count": 49,
   "id": "4c32bb86",
   "metadata": {},
   "outputs": [],
   "source": [
    "gamelog_Garland_2021 = playergamelog.PlayerGameLog(player_id='1629636', season = '2021')\n",
    "gamelog_Garland_2021_df = gamelog_Garland_2021.get_data_frames()[0]"
   ]
  },
  {
   "cell_type": "markdown",
   "id": "aa2598ae",
   "metadata": {},
   "source": [
    "### Retrieve career game log data for Darius Garland from nba_api and then convert to pandas dataframe¶"
   ]
  },
  {
   "cell_type": "code",
   "execution_count": 50,
   "id": "a15d77ce",
   "metadata": {},
   "outputs": [
    {
     "data": {
      "text/html": [
       "<div>\n",
       "<style scoped>\n",
       "    .dataframe tbody tr th:only-of-type {\n",
       "        vertical-align: middle;\n",
       "    }\n",
       "\n",
       "    .dataframe tbody tr th {\n",
       "        vertical-align: top;\n",
       "    }\n",
       "\n",
       "    .dataframe thead th {\n",
       "        text-align: right;\n",
       "    }\n",
       "</style>\n",
       "<table border=\"1\" class=\"dataframe\">\n",
       "  <thead>\n",
       "    <tr style=\"text-align: right;\">\n",
       "      <th></th>\n",
       "      <th>SEASON_ID</th>\n",
       "      <th>Player_ID</th>\n",
       "      <th>Game_ID</th>\n",
       "      <th>GAME_DATE</th>\n",
       "      <th>MATCHUP</th>\n",
       "      <th>WL</th>\n",
       "      <th>MIN</th>\n",
       "      <th>FGM</th>\n",
       "      <th>FGA</th>\n",
       "      <th>FG_PCT</th>\n",
       "      <th>...</th>\n",
       "      <th>DREB</th>\n",
       "      <th>REB</th>\n",
       "      <th>AST</th>\n",
       "      <th>STL</th>\n",
       "      <th>BLK</th>\n",
       "      <th>TOV</th>\n",
       "      <th>PF</th>\n",
       "      <th>PTS</th>\n",
       "      <th>PLUS_MINUS</th>\n",
       "      <th>VIDEO_AVAILABLE</th>\n",
       "    </tr>\n",
       "  </thead>\n",
       "  <tbody>\n",
       "    <tr>\n",
       "      <th>0</th>\n",
       "      <td>22021</td>\n",
       "      <td>1629636</td>\n",
       "      <td>0022101218</td>\n",
       "      <td>APR 10, 2022</td>\n",
       "      <td>CLE vs. MIL</td>\n",
       "      <td>W</td>\n",
       "      <td>23</td>\n",
       "      <td>4</td>\n",
       "      <td>7</td>\n",
       "      <td>0.571</td>\n",
       "      <td>...</td>\n",
       "      <td>2</td>\n",
       "      <td>2</td>\n",
       "      <td>8</td>\n",
       "      <td>0</td>\n",
       "      <td>0</td>\n",
       "      <td>0</td>\n",
       "      <td>0</td>\n",
       "      <td>11</td>\n",
       "      <td>38</td>\n",
       "      <td>1</td>\n",
       "    </tr>\n",
       "    <tr>\n",
       "      <th>1</th>\n",
       "      <td>22021</td>\n",
       "      <td>1629636</td>\n",
       "      <td>0022101205</td>\n",
       "      <td>APR 08, 2022</td>\n",
       "      <td>CLE @ BKN</td>\n",
       "      <td>L</td>\n",
       "      <td>41</td>\n",
       "      <td>12</td>\n",
       "      <td>24</td>\n",
       "      <td>0.500</td>\n",
       "      <td>...</td>\n",
       "      <td>0</td>\n",
       "      <td>0</td>\n",
       "      <td>3</td>\n",
       "      <td>2</td>\n",
       "      <td>0</td>\n",
       "      <td>2</td>\n",
       "      <td>1</td>\n",
       "      <td>31</td>\n",
       "      <td>-3</td>\n",
       "      <td>1</td>\n",
       "    </tr>\n",
       "    <tr>\n",
       "      <th>2</th>\n",
       "      <td>22021</td>\n",
       "      <td>1629636</td>\n",
       "      <td>0022101179</td>\n",
       "      <td>APR 05, 2022</td>\n",
       "      <td>CLE @ ORL</td>\n",
       "      <td>L</td>\n",
       "      <td>41</td>\n",
       "      <td>11</td>\n",
       "      <td>24</td>\n",
       "      <td>0.458</td>\n",
       "      <td>...</td>\n",
       "      <td>5</td>\n",
       "      <td>6</td>\n",
       "      <td>10</td>\n",
       "      <td>2</td>\n",
       "      <td>0</td>\n",
       "      <td>1</td>\n",
       "      <td>0</td>\n",
       "      <td>27</td>\n",
       "      <td>-1</td>\n",
       "      <td>1</td>\n",
       "    </tr>\n",
       "    <tr>\n",
       "      <th>3</th>\n",
       "      <td>22021</td>\n",
       "      <td>1629636</td>\n",
       "      <td>0022101170</td>\n",
       "      <td>APR 03, 2022</td>\n",
       "      <td>CLE vs. PHI</td>\n",
       "      <td>L</td>\n",
       "      <td>37</td>\n",
       "      <td>7</td>\n",
       "      <td>18</td>\n",
       "      <td>0.389</td>\n",
       "      <td>...</td>\n",
       "      <td>2</td>\n",
       "      <td>4</td>\n",
       "      <td>4</td>\n",
       "      <td>4</td>\n",
       "      <td>0</td>\n",
       "      <td>1</td>\n",
       "      <td>3</td>\n",
       "      <td>23</td>\n",
       "      <td>0</td>\n",
       "      <td>1</td>\n",
       "    </tr>\n",
       "    <tr>\n",
       "      <th>4</th>\n",
       "      <td>22021</td>\n",
       "      <td>1629636</td>\n",
       "      <td>0022101162</td>\n",
       "      <td>APR 02, 2022</td>\n",
       "      <td>CLE @ NYK</td>\n",
       "      <td>W</td>\n",
       "      <td>36</td>\n",
       "      <td>8</td>\n",
       "      <td>19</td>\n",
       "      <td>0.421</td>\n",
       "      <td>...</td>\n",
       "      <td>0</td>\n",
       "      <td>0</td>\n",
       "      <td>13</td>\n",
       "      <td>0</td>\n",
       "      <td>0</td>\n",
       "      <td>4</td>\n",
       "      <td>3</td>\n",
       "      <td>24</td>\n",
       "      <td>22</td>\n",
       "      <td>1</td>\n",
       "    </tr>\n",
       "  </tbody>\n",
       "</table>\n",
       "<p>5 rows × 27 columns</p>\n",
       "</div>"
      ],
      "text/plain": [
       "  SEASON_ID  Player_ID     Game_ID     GAME_DATE      MATCHUP WL  MIN  FGM  \\\n",
       "0     22021    1629636  0022101218  APR 10, 2022  CLE vs. MIL  W   23    4   \n",
       "1     22021    1629636  0022101205  APR 08, 2022    CLE @ BKN  L   41   12   \n",
       "2     22021    1629636  0022101179  APR 05, 2022    CLE @ ORL  L   41   11   \n",
       "3     22021    1629636  0022101170  APR 03, 2022  CLE vs. PHI  L   37    7   \n",
       "4     22021    1629636  0022101162  APR 02, 2022    CLE @ NYK  W   36    8   \n",
       "\n",
       "   FGA  FG_PCT  ...  DREB  REB  AST  STL  BLK  TOV  PF  PTS  PLUS_MINUS  \\\n",
       "0    7   0.571  ...     2    2    8    0    0    0   0   11          38   \n",
       "1   24   0.500  ...     0    0    3    2    0    2   1   31          -3   \n",
       "2   24   0.458  ...     5    6   10    2    0    1   0   27          -1   \n",
       "3   18   0.389  ...     2    4    4    4    0    1   3   23           0   \n",
       "4   19   0.421  ...     0    0   13    0    0    4   3   24          22   \n",
       "\n",
       "   VIDEO_AVAILABLE  \n",
       "0                1  \n",
       "1                1  \n",
       "2                1  \n",
       "3                1  \n",
       "4                1  \n",
       "\n",
       "[5 rows x 27 columns]"
      ]
     },
     "execution_count": 50,
     "metadata": {},
     "output_type": "execute_result"
    }
   ],
   "source": [
    "gamelog_Garland_all = playergamelog.PlayerGameLog(player_id='1629636', season = SeasonAll.all)\n",
    "gamelog_Garland_all_df = gamelog_Garland_all.get_data_frames()[0]\n",
    "gamelog_Garland_all_df.head()"
   ]
  },
  {
   "cell_type": "markdown",
   "id": "23b1e003",
   "metadata": {},
   "source": [
    "### Retrieve game log data for Cleveland Cavaliers"
   ]
  },
  {
   "cell_type": "code",
   "execution_count": 51,
   "id": "0e55d6e5",
   "metadata": {},
   "outputs": [
    {
     "data": {
      "text/html": [
       "<div>\n",
       "<style scoped>\n",
       "    .dataframe tbody tr th:only-of-type {\n",
       "        vertical-align: middle;\n",
       "    }\n",
       "\n",
       "    .dataframe tbody tr th {\n",
       "        vertical-align: top;\n",
       "    }\n",
       "\n",
       "    .dataframe thead th {\n",
       "        text-align: right;\n",
       "    }\n",
       "</style>\n",
       "<table border=\"1\" class=\"dataframe\">\n",
       "  <thead>\n",
       "    <tr style=\"text-align: right;\">\n",
       "      <th></th>\n",
       "      <th>SEASON_ID</th>\n",
       "      <th>TEAM_ID</th>\n",
       "      <th>TEAM_ABBREVIATION</th>\n",
       "      <th>TEAM_NAME</th>\n",
       "      <th>GAME_ID</th>\n",
       "      <th>GAME_DATE</th>\n",
       "      <th>MATCHUP</th>\n",
       "      <th>WL</th>\n",
       "      <th>MIN</th>\n",
       "      <th>PTS</th>\n",
       "      <th>...</th>\n",
       "      <th>FT_PCT</th>\n",
       "      <th>OREB</th>\n",
       "      <th>DREB</th>\n",
       "      <th>REB</th>\n",
       "      <th>AST</th>\n",
       "      <th>STL</th>\n",
       "      <th>BLK</th>\n",
       "      <th>TOV</th>\n",
       "      <th>PF</th>\n",
       "      <th>PLUS_MINUS</th>\n",
       "    </tr>\n",
       "  </thead>\n",
       "  <tbody>\n",
       "    <tr>\n",
       "      <th>0</th>\n",
       "      <td>52021</td>\n",
       "      <td>1610612739</td>\n",
       "      <td>CLE</td>\n",
       "      <td>Cleveland Cavaliers</td>\n",
       "      <td>0052100201</td>\n",
       "      <td>2022-04-15</td>\n",
       "      <td>CLE vs. ATL</td>\n",
       "      <td>L</td>\n",
       "      <td>239</td>\n",
       "      <td>101</td>\n",
       "      <td>...</td>\n",
       "      <td>0.824</td>\n",
       "      <td>8</td>\n",
       "      <td>28</td>\n",
       "      <td>36</td>\n",
       "      <td>23</td>\n",
       "      <td>8</td>\n",
       "      <td>4</td>\n",
       "      <td>11</td>\n",
       "      <td>20</td>\n",
       "      <td>-6.0</td>\n",
       "    </tr>\n",
       "    <tr>\n",
       "      <th>1</th>\n",
       "      <td>52021</td>\n",
       "      <td>1610612739</td>\n",
       "      <td>CLE</td>\n",
       "      <td>Cleveland Cavaliers</td>\n",
       "      <td>0052100101</td>\n",
       "      <td>2022-04-12</td>\n",
       "      <td>CLE @ BKN</td>\n",
       "      <td>L</td>\n",
       "      <td>239</td>\n",
       "      <td>108</td>\n",
       "      <td>...</td>\n",
       "      <td>0.850</td>\n",
       "      <td>10</td>\n",
       "      <td>30</td>\n",
       "      <td>40</td>\n",
       "      <td>26</td>\n",
       "      <td>9</td>\n",
       "      <td>2</td>\n",
       "      <td>15</td>\n",
       "      <td>21</td>\n",
       "      <td>-7.0</td>\n",
       "    </tr>\n",
       "    <tr>\n",
       "      <th>2</th>\n",
       "      <td>22021</td>\n",
       "      <td>1610612739</td>\n",
       "      <td>CLE</td>\n",
       "      <td>Cleveland Cavaliers</td>\n",
       "      <td>0022101218</td>\n",
       "      <td>2022-04-10</td>\n",
       "      <td>CLE vs. MIL</td>\n",
       "      <td>W</td>\n",
       "      <td>240</td>\n",
       "      <td>133</td>\n",
       "      <td>...</td>\n",
       "      <td>0.706</td>\n",
       "      <td>10</td>\n",
       "      <td>38</td>\n",
       "      <td>48</td>\n",
       "      <td>39</td>\n",
       "      <td>5</td>\n",
       "      <td>5</td>\n",
       "      <td>10</td>\n",
       "      <td>26</td>\n",
       "      <td>18.0</td>\n",
       "    </tr>\n",
       "    <tr>\n",
       "      <th>3</th>\n",
       "      <td>22021</td>\n",
       "      <td>1610612739</td>\n",
       "      <td>CLE</td>\n",
       "      <td>Cleveland Cavaliers</td>\n",
       "      <td>0022101205</td>\n",
       "      <td>2022-04-08</td>\n",
       "      <td>CLE @ BKN</td>\n",
       "      <td>L</td>\n",
       "      <td>239</td>\n",
       "      <td>107</td>\n",
       "      <td>...</td>\n",
       "      <td>0.792</td>\n",
       "      <td>10</td>\n",
       "      <td>21</td>\n",
       "      <td>31</td>\n",
       "      <td>19</td>\n",
       "      <td>4</td>\n",
       "      <td>4</td>\n",
       "      <td>8</td>\n",
       "      <td>20</td>\n",
       "      <td>-11.0</td>\n",
       "    </tr>\n",
       "    <tr>\n",
       "      <th>4</th>\n",
       "      <td>22021</td>\n",
       "      <td>1610612739</td>\n",
       "      <td>CLE</td>\n",
       "      <td>Cleveland Cavaliers</td>\n",
       "      <td>0022101179</td>\n",
       "      <td>2022-04-05</td>\n",
       "      <td>CLE @ ORL</td>\n",
       "      <td>L</td>\n",
       "      <td>240</td>\n",
       "      <td>115</td>\n",
       "      <td>...</td>\n",
       "      <td>0.682</td>\n",
       "      <td>9</td>\n",
       "      <td>38</td>\n",
       "      <td>47</td>\n",
       "      <td>25</td>\n",
       "      <td>6</td>\n",
       "      <td>4</td>\n",
       "      <td>11</td>\n",
       "      <td>11</td>\n",
       "      <td>-5.0</td>\n",
       "    </tr>\n",
       "  </tbody>\n",
       "</table>\n",
       "<p>5 rows × 28 columns</p>\n",
       "</div>"
      ],
      "text/plain": [
       "  SEASON_ID     TEAM_ID TEAM_ABBREVIATION            TEAM_NAME     GAME_ID  \\\n",
       "0     52021  1610612739               CLE  Cleveland Cavaliers  0052100201   \n",
       "1     52021  1610612739               CLE  Cleveland Cavaliers  0052100101   \n",
       "2     22021  1610612739               CLE  Cleveland Cavaliers  0022101218   \n",
       "3     22021  1610612739               CLE  Cleveland Cavaliers  0022101205   \n",
       "4     22021  1610612739               CLE  Cleveland Cavaliers  0022101179   \n",
       "\n",
       "    GAME_DATE      MATCHUP WL  MIN  PTS  ...  FT_PCT  OREB  DREB  REB  AST  \\\n",
       "0  2022-04-15  CLE vs. ATL  L  239  101  ...   0.824     8    28   36   23   \n",
       "1  2022-04-12    CLE @ BKN  L  239  108  ...   0.850    10    30   40   26   \n",
       "2  2022-04-10  CLE vs. MIL  W  240  133  ...   0.706    10    38   48   39   \n",
       "3  2022-04-08    CLE @ BKN  L  239  107  ...   0.792    10    21   31   19   \n",
       "4  2022-04-05    CLE @ ORL  L  240  115  ...   0.682     9    38   47   25   \n",
       "\n",
       "   STL  BLK  TOV  PF  PLUS_MINUS  \n",
       "0    8    4   11  20        -6.0  \n",
       "1    9    2   15  21        -7.0  \n",
       "2    5    5   10  26        18.0  \n",
       "3    4    4    8  20       -11.0  \n",
       "4    6    4   11  11        -5.0  \n",
       "\n",
       "[5 rows x 28 columns]"
      ]
     },
     "execution_count": 51,
     "metadata": {},
     "output_type": "execute_result"
    }
   ],
   "source": [
    "Cavs_games = leaguegamefinder.LeagueGameFinder(team_id_nullable='1610612739').get_data_frames()[0]\n",
    "Cavs_games.head()"
   ]
  },
  {
   "cell_type": "markdown",
   "id": "dd74e5bb",
   "metadata": {},
   "source": [
    "### Saving gamelog dataframe to a CSV file"
   ]
  },
  {
   "cell_type": "code",
   "execution_count": 52,
   "id": "79d0fce9",
   "metadata": {},
   "outputs": [],
   "source": [
    "gamelog_Garland_2021_df.to_csv('2021NBAGarlandGamelog.csv')"
   ]
  }
 ],
 "metadata": {
  "kernelspec": {
   "display_name": "Python 3 (ipykernel)",
   "language": "python",
   "name": "python3"
  },
  "language_info": {
   "codemirror_mode": {
    "name": "ipython",
    "version": 3
   },
   "file_extension": ".py",
   "mimetype": "text/x-python",
   "name": "python",
   "nbconvert_exporter": "python",
   "pygments_lexer": "ipython3",
   "version": "3.9.12"
  }
 },
 "nbformat": 4,
 "nbformat_minor": 5
}
